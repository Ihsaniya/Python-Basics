{
  "nbformat": 4,
  "nbformat_minor": 0,
  "metadata": {
    "colab": {
      "provenance": [],
      "collapsed_sections": []
    },
    "kernelspec": {
      "name": "python3",
      "display_name": "Python 3"
    },
    "language_info": {
      "name": "python"
    }
  },
  "cells": [
    {
      "cell_type": "code",
      "execution_count": null,
      "metadata": {
        "colab": {
          "base_uri": "https://localhost:8080/"
        },
        "id": "n422WnImn9Yk",
        "outputId": "621b47d9-f731-4c46-8b31-2fde0fd43f40"
      },
      "outputs": [
        {
          "output_type": "stream",
          "name": "stdout",
          "text": [
            "770000\n",
            "54000.0\n",
            "6000.0\n"
          ]
        }
      ],
      "source": [
        "\n",
        "salary=int(input())\n",
        "if salary <250000:\n",
        "  print(\"tax\")\n",
        "if  250000 <salary <500000:\n",
        "  print((salary-250000)*10/100)\n",
        "if 500000 <salary >750000:\n",
        "  print((salary-500000)*20/100)\n",
        "if salary >750000:\n",
        "  print((salary-750000)*30/100)"
      ]
    },
    {
      "cell_type": "code",
      "source": [
        "\n",
        "\n"
      ],
      "metadata": {
        "id": "CiFTz1Yroq6n"
      },
      "execution_count": null,
      "outputs": []
    },
    {
      "cell_type": "code",
      "source": [
        "salary=int(input())\n",
        "if salary <250000:\n",
        "  print(\"tax\")\n",
        "if  250000 <salary <500000:\n",
        "  print((salary-250000)*10/100)\n",
        "if 500000 <salary >750000:\n",
        "  print((salary-500000)*20/100 +(500000-250000)*10/100)\n",
        "if salary >750000:\n",
        "  print((salary-750000)*30/100)+((salary-500000)*20/100)+((salary-250000)*10/100"
      ],
      "metadata": {
        "colab": {
          "base_uri": "https://localhost:8080/",
          "height": 130
        },
        "id": "eDJhsG-ctcYM",
        "outputId": "e03c85d3-4e03-4def-c825-29011bf6798d"
      },
      "execution_count": null,
      "outputs": [
        {
          "output_type": "error",
          "ename": "SyntaxError",
          "evalue": "ignored",
          "traceback": [
            "\u001b[0;36m  File \u001b[0;32m\"<ipython-input-26-dd96bd75ecc1>\"\u001b[0;36m, line \u001b[0;32m9\u001b[0m\n\u001b[0;31m    print((salary-750000)*30/100)+((salary-500000)*20/100)+((salary-250000)*10/100\u001b[0m\n\u001b[0m                                                                                  ^\u001b[0m\n\u001b[0;31mSyntaxError\u001b[0m\u001b[0;31m:\u001b[0m unexpected EOF while parsing\n"
          ]
        }
      ]
    },
    {
      "cell_type": "code",
      "source": [
        "salary=int(input())\n",
        "if salary <250000:\n",
        "  print(\"tax\")\n",
        "if  250000 <salary <500000:\n",
        "  print((salary-250000)*10/100)\n",
        "if 500000 <salary >750000:\n",
        "  print((salary-500000)*20/100 +(500000-250000)*10/100)\n",
        "if salary >750000:\n",
        "  print((salary-750000)*30/100+((salary-500000)*20/100)+((salary-25000)*10/100))\n",
        "if salary >10000000:\n",
        "  print((salary-750000)*30/100+(salary-500000)*20/100+(salary-25000)*10/100+(salary-10000000)*2/100)"
      ],
      "metadata": {
        "colab": {
          "base_uri": "https://localhost:8080/"
        },
        "id": "RWXPv6O8wQLq",
        "outputId": "310d5374-1a09-4794-ce6a-1e7889c4cbb7"
      },
      "execution_count": null,
      "outputs": [
        {
          "output_type": "stream",
          "name": "stdout",
          "text": [
            "12000000\n",
            "2325000.0\n",
            "6872500.0\n",
            "6912500.0\n"
          ]
        }
      ]
    },
    {
      "cell_type": "code",
      "source": [],
      "metadata": {
        "id": "fWUVSvgc8zlr"
      },
      "execution_count": null,
      "outputs": []
    }
  ]
}