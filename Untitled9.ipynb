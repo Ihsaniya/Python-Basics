{
  "nbformat": 4,
  "nbformat_minor": 0,
  "metadata": {
    "colab": {
      "provenance": [],
      "authorship_tag": "ABX9TyMP5qUqe6Q+wmZrqwuXyk3O",
      "include_colab_link": true
    },
    "kernelspec": {
      "name": "python3",
      "display_name": "Python 3"
    },
    "language_info": {
      "name": "python"
    }
  },
  "cells": [
    {
      "cell_type": "markdown",
      "metadata": {
        "id": "view-in-github",
        "colab_type": "text"
      },
      "source": [
        "<a href=\"https://colab.research.google.com/github/Ihsaniya/Python-Basics/blob/main/Untitled9.ipynb\" target=\"_parent\"><img src=\"https://colab.research.google.com/assets/colab-badge.svg\" alt=\"Open In Colab\"/></a>"
      ]
    },
    {
      "cell_type": "code",
      "execution_count": 1,
      "metadata": {
        "colab": {
          "base_uri": "https://localhost:8080/"
        },
        "id": "u7imC3wzxTRS",
        "outputId": "8a64e85b-9a97-47b4-c427-9328e789c633"
      },
      "outputs": [
        {
          "output_type": "stream",
          "name": "stdout",
          "text": [
            "Enter the number to display the corresponding multiplication 5\n",
            "1 * 5 = 5\n",
            "2 * 5 = 10\n",
            "3 * 5 = 15\n",
            "4 * 5 = 20\n",
            "5 * 5 = 25\n",
            "6 * 5 = 30\n",
            "7 * 5 = 35\n",
            "8 * 5 = 40\n",
            "9 * 5 = 45\n",
            "10 * 5 = 50\n"
          ]
        }
      ],
      "source": [
        "num=int(input(\"Enter the number to display the corresponding multiplication\"))\n",
        "for i in range(1,11):\n",
        "  print(i,\"*\",num,\"=\",i*num)\n"
      ]
    },
    {
      "cell_type": "code",
      "source": [
        "num=int(input())\n",
        "i=1\n",
        "while(i<=10):\n",
        "  print(i*num)\n",
        "  i=i+1"
      ],
      "metadata": {
        "colab": {
          "base_uri": "https://localhost:8080/"
        },
        "id": "DxZtgVzxypjQ",
        "outputId": "85650d0f-6ccc-4237-90e2-797e4ad87909"
      },
      "execution_count": 3,
      "outputs": [
        {
          "output_type": "stream",
          "name": "stdout",
          "text": [
            "2\n",
            "2\n",
            "4\n",
            "6\n",
            "8\n",
            "10\n",
            "12\n",
            "14\n",
            "16\n",
            "18\n",
            "20\n"
          ]
        }
      ]
    },
    {
      "cell_type": "code",
      "source": [
        "x=input(\"Enter a num:\")\n",
        "d=0\n",
        "for i in x:\n",
        "  #print(i)\n",
        "  d=d+1\n",
        "print(d)"
      ],
      "metadata": {
        "id": "wnvvTGFW39p0"
      },
      "execution_count": null,
      "outputs": []
    },
    {
      "cell_type": "code",
      "source": [],
      "metadata": {
        "id": "U-JFmYs-5APp"
      },
      "execution_count": null,
      "outputs": []
    }
  ]
}