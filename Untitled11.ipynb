{
  "nbformat": 4,
  "nbformat_minor": 0,
  "metadata": {
    "colab": {
      "provenance": [],
      "authorship_tag": "ABX9TyNkds30gp1C5+noZyXNerTO",
      "include_colab_link": true
    },
    "kernelspec": {
      "name": "python3",
      "display_name": "Python 3"
    },
    "language_info": {
      "name": "python"
    }
  },
  "cells": [
    {
      "cell_type": "markdown",
      "metadata": {
        "id": "view-in-github",
        "colab_type": "text"
      },
      "source": [
        "<a href=\"https://colab.research.google.com/github/Ihsaniya/Python-Basics/blob/main/Untitled11.ipynb\" target=\"_parent\"><img src=\"https://colab.research.google.com/assets/colab-badge.svg\" alt=\"Open In Colab\"/></a>"
      ]
    },
    {
      "cell_type": "code",
      "execution_count": null,
      "metadata": {
        "id": "k5vghsKe04qW"
      },
      "outputs": [],
      "source": [
        "# Python Numbers category consists of:\n",
        "# 1.integers (int)\n",
        "# 2.Floating point numbers (float)\n",
        "# 3.complex numbers (complex)\n",
        "# 4.string (str)\n",
        "# 5.list\n",
        "# 6.tuple\n",
        "# 7.set\n",
        "# 8.dictionary"
      ]
    },
    {
      "cell_type": "code",
      "source": [
        "a=10\n",
        "type(a)"
      ],
      "metadata": {
        "colab": {
          "base_uri": "https://localhost:8080/",
          "height": 0
        },
        "id": "1XM_pf1r3Hnx",
        "outputId": "a320381e-875e-4b92-db12-cab485be1360"
      },
      "execution_count": 1,
      "outputs": [
        {
          "output_type": "execute_result",
          "data": {
            "text/plain": [
              "int"
            ]
          },
          "metadata": {},
          "execution_count": 1
        }
      ]
    },
    {
      "cell_type": "code",
      "source": [
        "type(10.5+7)"
      ],
      "metadata": {
        "colab": {
          "base_uri": "https://localhost:8080/",
          "height": 0
        },
        "id": "8lMmrsHg3MAT",
        "outputId": "4f1474c8-7d31-4150-bd5d-728615a39aba"
      },
      "execution_count": 2,
      "outputs": [
        {
          "output_type": "execute_result",
          "data": {
            "text/plain": [
              "float"
            ]
          },
          "metadata": {},
          "execution_count": 2
        }
      ]
    },
    {
      "cell_type": "code",
      "source": [
        "c=10+5j\n",
        "type(c)"
      ],
      "metadata": {
        "colab": {
          "base_uri": "https://localhost:8080/",
          "height": 0
        },
        "id": "agbAaSAT3jau",
        "outputId": "8e36426f-98f9-4004-90e8-0b84db2d694c"
      },
      "execution_count": 3,
      "outputs": [
        {
          "output_type": "execute_result",
          "data": {
            "text/plain": [
              "complex"
            ]
          },
          "metadata": {},
          "execution_count": 3
        }
      ]
    },
    {
      "cell_type": "code",
      "source": [
        "# string is a sequence of alphabets or numbers write in \" \""
      ],
      "metadata": {
        "id": "3Fi1wUb24Kkz"
      },
      "execution_count": null,
      "outputs": []
    },
    {
      "cell_type": "code",
      "source": [
        "e=\"sarang\"\n",
        "type(e)"
      ],
      "metadata": {
        "colab": {
          "base_uri": "https://localhost:8080/",
          "height": 0
        },
        "id": "TbnGT7Hq4bLN",
        "outputId": "a162b300-7f46-4c26-b657-772006fdc325"
      },
      "execution_count": 5,
      "outputs": [
        {
          "output_type": "execute_result",
          "data": {
            "text/plain": [
              "str"
            ]
          },
          "metadata": {},
          "execution_count": 5
        }
      ]
    },
    {
      "cell_type": "code",
      "source": [
        "# List\n",
        "\n",
        "x=[10,20,30,40,'niti','sara',10.5,78.9]\n",
        "type(x)"
      ],
      "metadata": {
        "colab": {
          "base_uri": "https://localhost:8080/",
          "height": 0
        },
        "id": "nHxDpDeS4fyl",
        "outputId": "6d26def2-9753-46b6-ea81-c16f4a28315e"
      },
      "execution_count": 9,
      "outputs": [
        {
          "output_type": "execute_result",
          "data": {
            "text/plain": [
              "list"
            ]
          },
          "metadata": {},
          "execution_count": 9
        }
      ]
    },
    {
      "cell_type": "code",
      "source": [
        "friends=['meryl,annlitta,vaish,liya,khadi']\n",
        "type(friends)"
      ],
      "metadata": {
        "colab": {
          "base_uri": "https://localhost:8080/",
          "height": 0
        },
        "id": "EwvqO9sI5FHJ",
        "outputId": "61a99e95-17a3-4d68-ef10-eb04f479e566"
      },
      "execution_count": 8,
      "outputs": [
        {
          "output_type": "execute_result",
          "data": {
            "text/plain": [
              "list"
            ]
          },
          "metadata": {},
          "execution_count": 8
        }
      ]
    },
    {
      "cell_type": "code",
      "source": [
        "x=('meryl','annlitta','varsha')\n",
        "type(x)"
      ],
      "metadata": {
        "colab": {
          "base_uri": "https://localhost:8080/",
          "height": 0
        },
        "id": "ZyArhy5G5lTR",
        "outputId": "5e12ef70-c3d5-447a-f39d-c42d3e5cdfd7"
      },
      "execution_count": 13,
      "outputs": [
        {
          "output_type": "execute_result",
          "data": {
            "text/plain": [
              "tuple"
            ]
          },
          "metadata": {},
          "execution_count": 13
        }
      ]
    },
    {
      "cell_type": "code",
      "source": [
        "friends=['meryl','annlitta','vaish','liya','varsha']\n",
        "print(friends[1])\n",
        "print(friends[4])"
      ],
      "metadata": {
        "colab": {
          "base_uri": "https://localhost:8080/",
          "height": 0
        },
        "id": "D7njMDnL6B-o",
        "outputId": "797f5f69-aada-41dc-9a92-774824e21efa"
      },
      "execution_count": 17,
      "outputs": [
        {
          "output_type": "stream",
          "name": "stdout",
          "text": [
            "annlitta\n",
            "varsha\n"
          ]
        }
      ]
    },
    {
      "cell_type": "code",
      "source": [
        "# Pop function \n",
        "friends=[\"khadi\",\"achuu\",\"sony\",\"isha\"]\n",
        "friends.pop()\n",
        "print(friends)"
      ],
      "metadata": {
        "colab": {
          "base_uri": "https://localhost:8080/",
          "height": 0
        },
        "id": "r3K0GUGU6kP4",
        "outputId": "a66e9c81-06ec-46dd-b282-137edffbfc01"
      },
      "execution_count": 22,
      "outputs": [
        {
          "output_type": "stream",
          "name": "stdout",
          "text": [
            "['khadi', 'achuu', 'sony']\n"
          ]
        }
      ]
    },
    {
      "cell_type": "code",
      "source": [
        "friends=[\"khadi\",\"achuu\",\"sony\",\"isha\"]\n",
        "friends.pop(1)\n",
        "print(friends)"
      ],
      "metadata": {
        "colab": {
          "base_uri": "https://localhost:8080/"
        },
        "id": "Yt39YwRb8c-3",
        "outputId": "a2d849d0-ed34-4e9c-9f49-9bdaca4476a0"
      },
      "execution_count": 25,
      "outputs": [
        {
          "output_type": "stream",
          "name": "stdout",
          "text": [
            "['khadi', 'sony', 'isha']\n"
          ]
        }
      ]
    },
    {
      "cell_type": "code",
      "source": [
        "friends=['meryl','annlitta','vaish','liya','varsha']\n",
        "friends.append('jomy')\n",
        "print(friends)"
      ],
      "metadata": {
        "colab": {
          "base_uri": "https://localhost:8080/"
        },
        "id": "woHTCfCx9jx5",
        "outputId": "013b9a7b-8948-4d12-c5b9-0ec30b43deb3"
      },
      "execution_count": 30,
      "outputs": [
        {
          "output_type": "stream",
          "name": "stdout",
          "text": [
            "['meryl', 'annlitta', 'vaish', 'liya', 'varsha', 'jomy']\n"
          ]
        }
      ]
    },
    {
      "cell_type": "code",
      "source": [
        "#Alphabetical order\n",
        "friends=['meryl','annlitta','vaish','liya','varsha']\n",
        "friends.sort()\n",
        "print(friends)"
      ],
      "metadata": {
        "colab": {
          "base_uri": "https://localhost:8080/"
        },
        "id": "b45u27Tr-KDG",
        "outputId": "4ae24183-ec1c-43ae-94bb-d64bfb5eda9c"
      },
      "execution_count": 31,
      "outputs": [
        {
          "output_type": "stream",
          "name": "stdout",
          "text": [
            "['annlitta', 'liya', 'meryl', 'vaish', 'varsha']\n"
          ]
        }
      ]
    },
    {
      "cell_type": "code",
      "source": [
        "# Reverse alphabetical order\n",
        "friends=['meryl','annlitta','vaish','liya','varsha']\n",
        "print(friends)"
      ],
      "metadata": {
        "colab": {
          "base_uri": "https://localhost:8080/"
        },
        "id": "T5ZB0_Xb_MNv",
        "outputId": "ed2ef42d-757b-45e0-c3ec-f3e1cd8f5c72"
      },
      "execution_count": 33,
      "outputs": [
        {
          "output_type": "stream",
          "name": "stdout",
          "text": [
            "['varsha', 'liya', 'vaish', 'annlitta', 'meryl']\n"
          ]
        }
      ]
    },
    {
      "cell_type": "code",
      "source": [
        "friends=['meryl','annlitta','vaish','liya','varsha']\n",
        "friends.insert(2,\"amit\")\n",
        "print(friends)"
      ],
      "metadata": {
        "colab": {
          "base_uri": "https://localhost:8080/"
        },
        "id": "49sqyf4e_ksd",
        "outputId": "b627f708-89c5-4b95-8f95-344627690fd0"
      },
      "execution_count": 38,
      "outputs": [
        {
          "output_type": "stream",
          "name": "stdout",
          "text": [
            "['meryl', 'annlitta', 'amit', 'vaish', 'liya', 'varsha']\n"
          ]
        }
      ]
    },
    {
      "cell_type": "code",
      "source": [
        "friends1=['meryl','annlitta','vaish','liya','varsha']\n",
        "friends2=[\"khadi\",\"achuu\",\"sony\",\"isha\"]\n",
        "all=(friends1+friends2)\n",
        "print(all)"
      ],
      "metadata": {
        "colab": {
          "base_uri": "https://localhost:8080/"
        },
        "id": "coE8lr_hBJ5T",
        "outputId": "82fb5c19-d112-4355-9643-b675048c26d8"
      },
      "execution_count": 43,
      "outputs": [
        {
          "output_type": "stream",
          "name": "stdout",
          "text": [
            "['meryl', 'annlitta', 'vaish', 'liya', 'varsha', 'khadi', 'achuu', 'sony', 'isha']\n"
          ]
        }
      ]
    },
    {
      "cell_type": "code",
      "source": [
        "friend=[\"jomy\",\"chriz\"]\n",
        "friend[0]=\"aayush\"\n",
        "print(friend)"
      ],
      "metadata": {
        "colab": {
          "base_uri": "https://localhost:8080/"
        },
        "id": "d-ATMURuCOnl",
        "outputId": "a5fa2f51-0eb0-41cb-a011-cb2016deefd8"
      },
      "execution_count": 69,
      "outputs": [
        {
          "output_type": "stream",
          "name": "stdout",
          "text": [
            "['aayush', 'chriz']\n"
          ]
        }
      ]
    },
    {
      "cell_type": "code",
      "source": [
        "#this not work cz it's tuple\n",
        "countries=(\"usa\",\"india\",\"dubai\",\"france\")\n",
        "countries.pop()\n",
        "print(countries)"
      ],
      "metadata": {
        "colab": {
          "base_uri": "https://localhost:8080/",
          "height": 208
        },
        "id": "BU3CVFsFEL2k",
        "outputId": "637f35b8-fde8-4cf2-9cd7-7cc136864ae9"
      },
      "execution_count": 47,
      "outputs": [
        {
          "output_type": "error",
          "ename": "AttributeError",
          "evalue": "ignored",
          "traceback": [
            "\u001b[0;31m---------------------------------------------------------------------------\u001b[0m",
            "\u001b[0;31mAttributeError\u001b[0m                            Traceback (most recent call last)",
            "\u001b[0;32m<ipython-input-47-cf40d086bcbe>\u001b[0m in \u001b[0;36m<module>\u001b[0;34m\u001b[0m\n\u001b[1;32m      1\u001b[0m \u001b[0mcountries\u001b[0m\u001b[0;34m=\u001b[0m\u001b[0;34m(\u001b[0m\u001b[0;34m\"usa\"\u001b[0m\u001b[0;34m,\u001b[0m\u001b[0;34m\"india\"\u001b[0m\u001b[0;34m,\u001b[0m\u001b[0;34m\"dubai\"\u001b[0m\u001b[0;34m,\u001b[0m\u001b[0;34m\"france\"\u001b[0m\u001b[0;34m)\u001b[0m\u001b[0;34m\u001b[0m\u001b[0;34m\u001b[0m\u001b[0m\n\u001b[0;32m----> 2\u001b[0;31m \u001b[0mcountries\u001b[0m\u001b[0;34m.\u001b[0m\u001b[0mpop\u001b[0m\u001b[0;34m(\u001b[0m\u001b[0;34m)\u001b[0m\u001b[0;34m\u001b[0m\u001b[0;34m\u001b[0m\u001b[0m\n\u001b[0m\u001b[1;32m      3\u001b[0m \u001b[0mprint\u001b[0m\u001b[0;34m(\u001b[0m\u001b[0mcountries\u001b[0m\u001b[0;34m)\u001b[0m\u001b[0;34m\u001b[0m\u001b[0;34m\u001b[0m\u001b[0m\n",
            "\u001b[0;31mAttributeError\u001b[0m: 'tuple' object has no attribute 'pop'"
          ]
        }
      ]
    },
    {
      "cell_type": "code",
      "source": [
        "marks=[10,20,20,30,40]\n",
        "set1=set(marks)\n",
        "print(set1)"
      ],
      "metadata": {
        "colab": {
          "base_uri": "https://localhost:8080/"
        },
        "id": "qlJ-z_J2FXa-",
        "outputId": "4b9aa039-4404-4357-cad8-eeb0bbc353e4"
      },
      "execution_count": 50,
      "outputs": [
        {
          "output_type": "stream",
          "name": "stdout",
          "text": [
            "{40, 10, 20, 30}\n"
          ]
        }
      ]
    },
    {
      "cell_type": "code",
      "source": [
        "h={1,2,3,3,4,5}\n",
        "type(h)"
      ],
      "metadata": {
        "colab": {
          "base_uri": "https://localhost:8080/"
        },
        "id": "5lTC-I6lGitr",
        "outputId": "a2137533-e1e0-4cbb-b881-367546c47b08"
      },
      "execution_count": 51,
      "outputs": [
        {
          "output_type": "execute_result",
          "data": {
            "text/plain": [
              "set"
            ]
          },
          "metadata": {},
          "execution_count": 51
        }
      ]
    },
    {
      "cell_type": "code",
      "source": [
        "dict={'name':'keril','ph no':'8089010656','place':'kuthiravattom','bf':'gf'}\n",
        "dict['year']=2004\n",
        "print(dict)"
      ],
      "metadata": {
        "colab": {
          "base_uri": "https://localhost:8080/"
        },
        "id": "wKcjc544Hkpt",
        "outputId": "2921a7a1-fe46-460d-868a-04fef0617f34"
      },
      "execution_count": 70,
      "outputs": [
        {
          "output_type": "stream",
          "name": "stdout",
          "text": [
            "{'name': 'keril', 'ph no': '8089010656', 'place': 'kuthiravattom', 'bf': 'gf', 'year': 2004}\n"
          ]
        }
      ]
    },
    {
      "cell_type": "code",
      "source": [
        "def add(x,y):\n",
        "  return(x+y)\n",
        "add(2,3)"
      ],
      "metadata": {
        "colab": {
          "base_uri": "https://localhost:8080/"
        },
        "id": "motNyYU_JMr1",
        "outputId": "be29804d-5c34-44a2-96ce-fc6f12d24333"
      },
      "execution_count": 63,
      "outputs": [
        {
          "output_type": "execute_result",
          "data": {
            "text/plain": [
              "5"
            ]
          },
          "metadata": {},
          "execution_count": 63
        }
      ]
    },
    {
      "cell_type": "code",
      "source": [
        "def multiply(x,y,z):\n",
        "  return(x*y*z)\n",
        "multiply(2,3,5)"
      ],
      "metadata": {
        "colab": {
          "base_uri": "https://localhost:8080/"
        },
        "id": "pToMZkfnKnwJ",
        "outputId": "3e63998a-89fa-44a2-d010-15a8e63e1ce5"
      },
      "execution_count": 65,
      "outputs": [
        {
          "output_type": "execute_result",
          "data": {
            "text/plain": [
              "30"
            ]
          },
          "metadata": {},
          "execution_count": 65
        }
      ]
    },
    {
      "cell_type": "code",
      "source": [],
      "metadata": {
        "id": "QYTwrb70MGJW"
      },
      "execution_count": null,
      "outputs": []
    }
  ]
}