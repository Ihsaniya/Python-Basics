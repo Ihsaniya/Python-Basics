{
  "nbformat": 4,
  "nbformat_minor": 0,
  "metadata": {
    "colab": {
      "provenance": [],
      "authorship_tag": "ABX9TyNVr+pMqVBboX48LVlnHG0R",
      "include_colab_link": true
    },
    "kernelspec": {
      "name": "python3",
      "display_name": "Python 3"
    },
    "language_info": {
      "name": "python"
    }
  },
  "cells": [
    {
      "cell_type": "markdown",
      "metadata": {
        "id": "view-in-github",
        "colab_type": "text"
      },
      "source": [
        "<a href=\"https://colab.research.google.com/github/Ihsaniya/Python-Basics/blob/main/Untitled6.ipynb\" target=\"_parent\"><img src=\"https://colab.research.google.com/assets/colab-badge.svg\" alt=\"Open In Colab\"/></a>"
      ]
    },
    {
      "cell_type": "code",
      "execution_count": null,
      "metadata": {
        "colab": {
          "base_uri": "https://localhost:8080/"
        },
        "id": "ZAwJMjw8iZ7l",
        "outputId": "90246399-38f0-481d-f6c8-c5aee1cc60af"
      },
      "outputs": [
        {
          "output_type": "stream",
          "name": "stdout",
          "text": [
            "enter a namemeryl\n",
            "meryl\n"
          ]
        }
      ],
      "source": [
        "name=input(\"enter a name\")\n",
        "print(name)"
      ]
    },
    {
      "cell_type": "code",
      "source": [
        "x=int(input(\"english mark\"))\n",
        "y=int(input(\"french mark\"))\n",
        "z=int(input(\"banking mark\"))\n",
        "sum=x+y+z\n",
        "print(sum)"
      ],
      "metadata": {
        "colab": {
          "base_uri": "https://localhost:8080/"
        },
        "id": "kgf59d-yivoU",
        "outputId": "9ad470ad-7f0c-4073-aef0-998d76e7fd48"
      },
      "execution_count": 4,
      "outputs": [
        {
          "output_type": "stream",
          "name": "stdout",
          "text": [
            "english mark48\n",
            "french mark47\n",
            "banking mark46\n",
            "141\n"
          ]
        }
      ]
    },
    {
      "cell_type": "code",
      "source": [
        "x=int(input(\"english mark\"))\n",
        "y=int(input(\"french mark\"))\n",
        "z=int(input(\"banking mark\"))\n",
        "sum=x+y+z\n",
        "print(sum/3)"
      ],
      "metadata": {
        "id": "EZZfLBX5kvrZ",
        "colab": {
          "base_uri": "https://localhost:8080/"
        },
        "outputId": "e7849a2a-b4a9-4141-8e83-40096415b21b"
      },
      "execution_count": 5,
      "outputs": [
        {
          "output_type": "stream",
          "name": "stdout",
          "text": [
            "english mark48\n",
            "french mark47\n",
            "banking mark46\n",
            "47.0\n"
          ]
        }
      ]
    },
    {
      "cell_type": "code",
      "source": [
        "x=int(input(\"enter a number\"))\n",
        "if x >50:\n",
        "  print(\"the number is greater\")\n",
        "if x<50:\n",
        "  print(\"number is smallest\")\n"
      ],
      "metadata": {
        "colab": {
          "base_uri": "https://localhost:8080/"
        },
        "id": "TFz2X2Spm1tt",
        "outputId": "8bb42202-f29d-446b-9ff6-2b9d7e63112b"
      },
      "execution_count": 6,
      "outputs": [
        {
          "output_type": "stream",
          "name": "stdout",
          "text": [
            "enter a number62\n",
            "the number is greater\n"
          ]
        }
      ]
    },
    {
      "cell_type": "code",
      "source": [
        "x=int(input(\"enter the first number\"))\n",
        "y= int(input(\"enter the 2nd number\"))\n",
        "if x >y:\n",
        "  print(x,\"is greater\")\n",
        "if x <y:\n",
        "  print(y,\"is smallest\")\n"
      ],
      "metadata": {
        "colab": {
          "base_uri": "https://localhost:8080/"
        },
        "id": "W-P-oKO6nojt",
        "outputId": "66ac1302-a225-4c5d-fed8-13397c460311"
      },
      "execution_count": 8,
      "outputs": [
        {
          "output_type": "stream",
          "name": "stdout",
          "text": [
            "enter the first number45\n",
            "enter the 2nd number35\n",
            "45 is greater\n"
          ]
        }
      ]
    },
    {
      "cell_type": "code",
      "source": [
        "x=int(input(\"enter the first number\"))\n",
        "y= int(input(\"enter the 2nd number\"))\n",
        "z=int(input(\"enter the 3rd number\"))\n",
        "if x >y and x >z:\n",
        "  print(x,\"is greatest\")\n",
        "if y >x and y >z:\n",
        "  print(y,\"is greatest\")\n",
        "if z >x and z>y:\n",
        "  print(z,\"is greatest\")"
      ],
      "metadata": {
        "colab": {
          "base_uri": "https://localhost:8080/"
        },
        "id": "l3eOl_zZoa8e",
        "outputId": "f1355c8d-6c6d-426b-f921-a12ec7ca6d6a"
      },
      "execution_count": 14,
      "outputs": [
        {
          "output_type": "stream",
          "name": "stdout",
          "text": [
            "enter the first number50\n",
            "enter the 2nd number60\n",
            "enter the 3rd number70\n",
            "70 is greatest\n"
          ]
        }
      ]
    },
    {
      "cell_type": "code",
      "source": [
        "x=int(input(\"enter a number\"))\n",
        "if x%2==0:\n",
        "  print(\"even number\")\n",
        "else:\n",
        "  print(\"odd number\")\n"
      ],
      "metadata": {
        "colab": {
          "base_uri": "https://localhost:8080/"
        },
        "id": "O9l1GiyPras1",
        "outputId": "8f4fae98-d348-4b03-a1f7-f96ec4a22750"
      },
      "execution_count": 15,
      "outputs": [
        {
          "output_type": "stream",
          "name": "stdout",
          "text": [
            "enter a number18\n",
            "even number\n"
          ]
        }
      ]
    },
    {
      "cell_type": "code",
      "source": [
        "x=[1,2,3,4,5,6,7,8,9,10]\n",
        "for a in x:\n",
        "  print(a)"
      ],
      "metadata": {
        "colab": {
          "base_uri": "https://localhost:8080/"
        },
        "id": "mMnepAYJwG-v",
        "outputId": "82291b9e-209b-4810-a035-2fca562ff727"
      },
      "execution_count": 18,
      "outputs": [
        {
          "output_type": "stream",
          "name": "stdout",
          "text": [
            "1\n",
            "2\n",
            "3\n",
            "4\n",
            "5\n",
            "6\n",
            "7\n",
            "8\n",
            "9\n",
            "10\n"
          ]
        }
      ]
    },
    {
      "cell_type": "code",
      "source": [
        "for i in range(1,11):\n",
        "  print(i)"
      ],
      "metadata": {
        "colab": {
          "base_uri": "https://localhost:8080/"
        },
        "id": "RvAGZ8YFzEW-",
        "outputId": "3c593f08-cb38-4ce2-b023-71b6e2ec9cb1"
      },
      "execution_count": 19,
      "outputs": [
        {
          "output_type": "stream",
          "name": "stdout",
          "text": [
            "1\n",
            "2\n",
            "3\n",
            "4\n",
            "5\n",
            "6\n",
            "7\n",
            "8\n",
            "9\n",
            "10\n"
          ]
        }
      ]
    },
    {
      "cell_type": "code",
      "source": [
        "for i in range(0,11,2):\n",
        "  print(i)"
      ],
      "metadata": {
        "colab": {
          "base_uri": "https://localhost:8080/"
        },
        "id": "ABi9vLaZ0LDr",
        "outputId": "6138db6b-2c04-470a-a04d-4a16bfd1e066"
      },
      "execution_count": 21,
      "outputs": [
        {
          "output_type": "stream",
          "name": "stdout",
          "text": [
            "0\n",
            "2\n",
            "4\n",
            "6\n",
            "8\n",
            "10\n"
          ]
        }
      ]
    },
    {
      "cell_type": "code",
      "source": [],
      "metadata": {
        "id": "joyKbLQ81DQr"
      },
      "execution_count": null,
      "outputs": []
    }
  ]
}