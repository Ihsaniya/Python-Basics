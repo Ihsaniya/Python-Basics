{
  "nbformat": 4,
  "nbformat_minor": 0,
  "metadata": {
    "colab": {
      "provenance": [],
      "authorship_tag": "ABX9TyPNHS6eKQS2kCINrmxIKfH/",
      "include_colab_link": true
    },
    "kernelspec": {
      "name": "python3",
      "display_name": "Python 3"
    },
    "language_info": {
      "name": "python"
    }
  },
  "cells": [
    {
      "cell_type": "markdown",
      "metadata": {
        "id": "view-in-github",
        "colab_type": "text"
      },
      "source": [
        "<a href=\"https://colab.research.google.com/github/Ihsaniya/Python-Basics/blob/main/Untitled7.ipynb\" target=\"_parent\"><img src=\"https://colab.research.google.com/assets/colab-badge.svg\" alt=\"Open In Colab\"/></a>"
      ]
    },
    {
      "cell_type": "code",
      "execution_count": 3,
      "metadata": {
        "colab": {
          "base_uri": "https://localhost:8080/"
        },
        "id": "jcxbPHfOogWD",
        "outputId": "83c77735-0e1c-4afb-d59d-acad45460bed"
      },
      "outputs": [
        {
          "output_type": "stream",
          "name": "stdout",
          "text": [
            "enter the travel source Kannur\n",
            "enter the travel destination Paris\n",
            "number of passengers 400\n",
            " Kannur\n",
            " Paris\n",
            "400\n"
          ]
        }
      ],
      "source": [
        "x=input(\"enter the travel source\")\n",
        "y=input(\"enter the travel destination\")\n",
        "z=int(input(\"number of passengers\"))\n",
        "print(x)\n",
        "print(y)\n",
        "print(z)"
      ]
    },
    {
      "cell_type": "code",
      "source": [
        "x=int(input(\"Total ticket fair price:\"))\n",
        "y=int(input(\"No of passengers:\"))\n",
        "print(\"ticekt fare per person:1200\")\n"
      ],
      "metadata": {
        "colab": {
          "base_uri": "https://localhost:8080/"
        },
        "id": "N_KSMVMqp0s0",
        "outputId": "6241309b-304a-4337-e583-81d3a2838513"
      },
      "execution_count": 4,
      "outputs": [
        {
          "output_type": "stream",
          "name": "stdout",
          "text": [
            "Total ticket fair price: 2400\n",
            "No of passengers: 400\n",
            "ticekt fare per person:1200\n"
          ]
        }
      ]
    },
    {
      "cell_type": "code",
      "source": [
        "x=input(\"Passenger Name:\")\n",
        "y=int(input(\"Ticket Fare:\"))\n",
        "print(x,y)"
      ],
      "metadata": {
        "colab": {
          "base_uri": "https://localhost:8080/"
        },
        "id": "GWv-Nh0ZsEhZ",
        "outputId": "95823463-27fa-4442-bb6f-bea7b06db4a9"
      },
      "execution_count": 6,
      "outputs": [
        {
          "output_type": "stream",
          "name": "stdout",
          "text": [
            "Passenger Name:Chriz Mon\n",
            "Ticket Fare: 2400\n",
            "Chriz Mon 2400\n"
          ]
        }
      ]
    },
    {
      "cell_type": "code",
      "source": [
        "x=int(input(\"Tickt fare:\"))\n",
        "if x >10000:\n",
        "  print(\"Eligible for discount\")\n",
        "else:\n",
        "  print(\"Not eligible for discount\")\n"
      ],
      "metadata": {
        "colab": {
          "base_uri": "https://localhost:8080/"
        },
        "id": "aTfoZUaCssNp",
        "outputId": "9e10ff00-54a8-4a83-c55b-db24be1f4b57"
      },
      "execution_count": 7,
      "outputs": [
        {
          "output_type": "stream",
          "name": "stdout",
          "text": [
            "Tickt fare: 12000\n",
            "Eligible for discount\n"
          ]
        }
      ]
    },
    {
      "cell_type": "code",
      "source": [
        "x=int(input(\"Total ticket fare:\"))\n",
        "if x >15000:\n",
        "  print(\"Eligible for 20% discount\")\n",
        "else:\n",
        "  print(\"Eligible for 10% discount\")\n"
      ],
      "metadata": {
        "colab": {
          "base_uri": "https://localhost:8080/"
        },
        "id": "CYwJUa7zvdZY",
        "outputId": "110e5d2d-ad90-40fa-905c-71c7425d9259"
      },
      "execution_count": 8,
      "outputs": [
        {
          "output_type": "stream",
          "name": "stdout",
          "text": [
            "Total ticket fare: 16500\n",
            "Eligible for 20% discount\n"
          ]
        }
      ]
    },
    {
      "cell_type": "code",
      "source": [
        "x=int(input(\"Ticket fare:\"))\n",
        "if x >15000:\n",
        "   print(x*20/100)\n",
        "if x >10000:\n",
        "  print(x*10/100)\n",
        "else:\n",
        "  print(x*5/100)"
      ],
      "metadata": {
        "colab": {
          "base_uri": "https://localhost:8080/"
        },
        "id": "V_KKqxpzwVXS",
        "outputId": "11356f0b-5118-428f-a797-b71a66d9b4db"
      },
      "execution_count": 9,
      "outputs": [
        {
          "output_type": "stream",
          "name": "stdout",
          "text": [
            "Ticket fare: 14500\n",
            "1450.0\n"
          ]
        }
      ]
    },
    {
      "cell_type": "code",
      "source": [
        "x=int(input(\"Enter a number:\"))\n",
        "if x>0:\n",
        "  print(\"Positive number\")\n",
        "elif x <0:\n",
        "  print(\"Negative number\")\n",
        "else:\n",
        "  print(\"Zero number \")"
      ],
      "metadata": {
        "colab": {
          "base_uri": "https://localhost:8080/"
        },
        "id": "Ijg5eJElxpAr",
        "outputId": "8a003d4b-8e45-4c6d-b1b3-dadd976e971d"
      },
      "execution_count": 12,
      "outputs": [
        {
          "output_type": "stream",
          "name": "stdout",
          "text": [
            "Enter a number:100002\n",
            "Positive number\n"
          ]
        }
      ]
    },
    {
      "cell_type": "code",
      "source": [
        "x=int(input(\"Age:\"))\n",
        "if x >18:\n",
        "  print(\"Adult\")\n",
        "if 18 >x >13:\n",
        "  print(\"Teenager\")\n",
        "if 13 >x >6:\n",
        "  print(\"Kid\")\n",
        "elif 5 >x >2:\n",
        "  print(\"Toddler\")\n",
        "else:\n",
        "  print(\"Infant\")"
      ],
      "metadata": {
        "colab": {
          "base_uri": "https://localhost:8080/"
        },
        "id": "bgFv4gd9zIXD",
        "outputId": "995f835e-ee78-45c0-ae49-e82145981287"
      },
      "execution_count": 13,
      "outputs": [
        {
          "output_type": "stream",
          "name": "stdout",
          "text": [
            "Age:7\n",
            "Kid\n"
          ]
        }
      ]
    },
    {
      "cell_type": "code",
      "source": [
        "x=input(\"initial of your name:\")\n",
        "y=[\"a\",\"e\",\"i\",\"o\",\"u\"]\n",
        "if x in y:\n",
        "  print(\"Vowel\")\n",
        "else:\n",
        "  print(\"Not vowel\")"
      ],
      "metadata": {
        "colab": {
          "base_uri": "https://localhost:8080/"
        },
        "id": "VU-VrZuS04Be",
        "outputId": "337f730d-9d27-4914-be48-4d1d252185a4"
      },
      "execution_count": 21,
      "outputs": [
        {
          "output_type": "stream",
          "name": "stdout",
          "text": [
            "initial of your name:a\n",
            "Vowel\n"
          ]
        }
      ]
    },
    {
      "cell_type": "code",
      "source": [
        "x=input(\"Name:\")\n",
        "for a in x:\n",
        "  print(a)\n"
      ],
      "metadata": {
        "colab": {
          "base_uri": "https://localhost:8080/"
        },
        "id": "-FqgXpm84Hf1",
        "outputId": "847f0029-19d4-4dd1-b8b2-761775f0e4f4"
      },
      "execution_count": 22,
      "outputs": [
        {
          "output_type": "stream",
          "name": "stdout",
          "text": [
            "Name:Chriz Mon\n",
            "C\n",
            "h\n",
            "r\n",
            "i\n",
            "z\n",
            " \n",
            "M\n",
            "o\n",
            "n\n"
          ]
        }
      ]
    },
    {
      "cell_type": "code",
      "source": [
        "for a in range(45,88):\n",
        "  if a%2!=0:\n",
        "    print(a)"
      ],
      "metadata": {
        "colab": {
          "base_uri": "https://localhost:8080/"
        },
        "id": "kMM8-I2g6sdl",
        "outputId": "2d079e9a-e5b7-4a42-adf0-cf3f65bf9a18"
      },
      "execution_count": 23,
      "outputs": [
        {
          "output_type": "stream",
          "name": "stdout",
          "text": [
            "45\n",
            "47\n",
            "49\n",
            "51\n",
            "53\n",
            "55\n",
            "57\n",
            "59\n",
            "61\n",
            "63\n",
            "65\n",
            "67\n",
            "69\n",
            "71\n",
            "73\n",
            "75\n",
            "77\n",
            "79\n",
            "81\n",
            "83\n",
            "85\n",
            "87\n"
          ]
        }
      ]
    },
    {
      "cell_type": "code",
      "source": [
        "k=0\n",
        "for a in range(1,11):\n",
        "  k=k+a\n",
        "  print(k)"
      ],
      "metadata": {
        "colab": {
          "base_uri": "https://localhost:8080/"
        },
        "id": "hlCB7UaP8SUl",
        "outputId": "6c204297-0647-4090-8085-06b427317327"
      },
      "execution_count": 24,
      "outputs": [
        {
          "output_type": "stream",
          "name": "stdout",
          "text": [
            "1\n",
            "3\n",
            "6\n",
            "10\n",
            "15\n",
            "21\n",
            "28\n",
            "36\n",
            "45\n",
            "55\n"
          ]
        }
      ]
    },
    {
      "cell_type": "code",
      "source": [],
      "metadata": {
        "id": "Em-DTWPO-8iZ"
      },
      "execution_count": null,
      "outputs": []
    }
  ]
}