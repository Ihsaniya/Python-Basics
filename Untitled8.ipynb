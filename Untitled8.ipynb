{
  "nbformat": 4,
  "nbformat_minor": 0,
  "metadata": {
    "colab": {
      "provenance": [],
      "authorship_tag": "ABX9TyNy4XpYuTm9vXF0r66r28UT",
      "include_colab_link": true
    },
    "kernelspec": {
      "name": "python3",
      "display_name": "Python 3"
    },
    "language_info": {
      "name": "python"
    }
  },
  "cells": [
    {
      "cell_type": "markdown",
      "metadata": {
        "id": "view-in-github",
        "colab_type": "text"
      },
      "source": [
        "<a href=\"https://colab.research.google.com/github/Ihsaniya/Python-Basics/blob/main/Untitled8.ipynb\" target=\"_parent\"><img src=\"https://colab.research.google.com/assets/colab-badge.svg\" alt=\"Open In Colab\"/></a>"
      ]
    },
    {
      "cell_type": "code",
      "source": [
        "x=int(input())\n",
        "if x<0:\n",
        "  print(x*(-1))"
      ],
      "metadata": {
        "colab": {
          "base_uri": "https://localhost:8080/"
        },
        "id": "5-mac5Rnjzr8",
        "outputId": "ee207652-6cab-43b2-9120-55b6a4f1070a"
      },
      "execution_count": 2,
      "outputs": [
        {
          "output_type": "stream",
          "name": "stdout",
          "text": [
            "-4\n",
            "4\n"
          ]
        }
      ]
    },
    {
      "cell_type": "code",
      "source": [
        "num=int(input())\n",
        "if num>0:\n",
        "  print(\"absolute value of\",num,\"is\",num)\n",
        "else:\n",
        "  num=num*(-1)\n",
        "  print(\"absolute value of\",num ,\"is\",num)"
      ],
      "metadata": {
        "colab": {
          "base_uri": "https://localhost:8080/"
        },
        "id": "KhzcLu8ikFBp",
        "outputId": "07c09a65-aa70-4b76-a5d4-e257a048d52d"
      },
      "execution_count": 3,
      "outputs": [
        {
          "output_type": "stream",
          "name": "stdout",
          "text": [
            "-10\n",
            "absolute value of 10 is 10\n"
          ]
        }
      ]
    },
    {
      "cell_type": "code",
      "source": [
        "x=int(input(\"Enter mark:\"))\n",
        "if x <25:\n",
        "  print(\"F\")\n",
        "if 25 <x <45:\n",
        "  print(\"E\")\n",
        "if 45< x <50:\n",
        "  print(\"D\")\n",
        "if 50< x <60:\n",
        "  print(\"C\")\n",
        "if 60 < x <80:\n",
        "  print(\"B\")\n",
        "if x >80:\n",
        "  print(\"A\")\n",
        "  \n"
      ],
      "metadata": {
        "colab": {
          "base_uri": "https://localhost:8080/"
        },
        "id": "eIqyoVlTlaZw",
        "outputId": "83a4dbc6-8661-42b2-b61a-807b11e8c0c2"
      },
      "execution_count": 6,
      "outputs": [
        {
          "output_type": "stream",
          "name": "stdout",
          "text": [
            "Enter mark:81\n",
            "A\n"
          ]
        }
      ]
    },
    {
      "cell_type": "code",
      "source": [
        "x=int(input(\"No.of classes held:\"))\n",
        "y=int(input(\"No. of classes attended:\"))\n",
        "z=y/x*100\n",
        "if z>75:\n",
        "  print(z,\"You are able to attend the exam\")\n",
        "if z< 75:\n",
        "  print(z,\"you aren't able to attend the exam\")"
      ],
      "metadata": {
        "colab": {
          "base_uri": "https://localhost:8080/"
        },
        "id": "RSV99OLJnD_0",
        "outputId": "bfb17805-1b4c-466e-b865-9f18f95db3ae"
      },
      "execution_count": 12,
      "outputs": [
        {
          "output_type": "stream",
          "name": "stdout",
          "text": [
            "No.of classes held:150\n",
            "No. of classes attended:125\n",
            "83.33333333333334 You are able to attend the exam\n"
          ]
        }
      ]
    },
    {
      "cell_type": "code",
      "source": [
        "# Program for calculator\n",
        "print(\"1.addition\")\n",
        "print(\"2.subtraction\")\n",
        "print(\"3.multiplication\")\n",
        "print(\"4.division\")\n",
        "print(\"5.modulus\")\n",
        "print(\"6.floor division\")\n",
        "print(\"7.exponent\")\n",
        "x=int(input(\"choose a number\"))\n",
        "y=int(input(\"enter a 1st number\"))\n",
        "z=int(input(\"enter a 2nd number\"))\n",
        "if x==1:\n",
        "  print(y+z)\n",
        "if x==2:\n",
        "  print(y-z)\n",
        "if x==3:\n",
        "  print(y*z)\n",
        "if x==4:\n",
        "  print(y/z)\n",
        "if x==5:\n",
        "  print(y%z)\n",
        "if x==6:\n",
        "  print(y//z)\n",
        "if x==7:\n",
        "  print(y**z)"
      ],
      "metadata": {
        "colab": {
          "base_uri": "https://localhost:8080/"
        },
        "id": "t6ElKxUMr2bz",
        "outputId": "98206ff4-662d-401d-ad20-12b02ff563b3"
      },
      "execution_count": 14,
      "outputs": [
        {
          "output_type": "stream",
          "name": "stdout",
          "text": [
            "1.addition\n",
            "2.subtraction\n",
            "3.multiplication\n",
            "4.division\n",
            "5.modulus\n",
            "6.floor division\n",
            "7.exponent\n",
            "choose a number3\n",
            "enter a 1st number4\n",
            "enter a 2nd number5\n",
            "20\n"
          ]
        }
      ]
    },
    {
      "cell_type": "code",
      "source": [
        "a=int(input(\"enter mark of 1st subject:\"))\n",
        "b=int(input(\"enter mark of 2nd subject\"))\n",
        "c=int(input(\"enter mark of 3rd subject\"))\n",
        "d=int(input(\"enter mark of 4th subject\"))\n",
        "e=int(input(\"enter mark of 5th subject\"))\n",
        "print('least marks',min(a,b,c,d,e))\n",
        "print('max mark',max(a,b,c,d,e))\n",
        "print((a+b+c+d+e)/5)"
      ],
      "metadata": {
        "colab": {
          "base_uri": "https://localhost:8080/"
        },
        "id": "XCbFn_D_0z8Y",
        "outputId": "cc1d0b4e-7614-4285-a7aa-edb5dc76b9ee"
      },
      "execution_count": 16,
      "outputs": [
        {
          "output_type": "stream",
          "name": "stdout",
          "text": [
            "enter mark of 1st subject:75\n",
            "enter mark of 2nd subject76\n",
            "enter mark of 3rd subject78\n",
            "enter mark of 4th subject79\n",
            "enter mark of 5th subject80\n",
            "least marks 75\n",
            "max mark 80\n",
            "77.6\n"
          ]
        }
      ]
    },
    {
      "cell_type": "code",
      "source": [],
      "metadata": {
        "id": "B5udJcR34bHB"
      },
      "execution_count": null,
      "outputs": []
    }
  ]
}